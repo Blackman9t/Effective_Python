{
 "cells": [
  {
   "cell_type": "markdown",
   "metadata": {},
   "source": [
    "Each function is represented by a **frame**. \n",
    "\n",
    "* A frame is a box with the name of a function beside it and the parameters and variables of the function inside it\n",
    "\n",
    "* The frames are arranged in a stack that indicates which function called which, and so on.\n",
    "\n",
    "* When you create a variable outside of any function, it belongs to __main__. __main__ is a special name for the top-most frame.\n",
    "\n",
    "* Each parameter refers to the same value as its corresponding argument\n",
    "\n",
    "* If an error occurs during a function call, Python prints the name of the function, and the name of the function that called it, and the name of the function that called that, all the way back to __main__. This list of functions is called a **traceback**. It tells you what program file the error occurred in, and what line, and what functions were executing at the time. It also shows the line of code that caused the error. The order of the functions in the traceback is the same as the order of the frames in the stack diagram. The function that is currently running is at the bottom.\n",
    "\n"
   ]
  },
  {
   "cell_type": "code",
   "execution_count": 1,
   "metadata": {},
   "outputs": [
    {
     "name": "stdout",
     "output_type": "stream",
     "text": [
      "daniel\n",
      "daniel\n"
     ]
    }
   ],
   "source": [
    "def print_twice(bruce):\n",
    "    \"\"\"Print a given parameter twice\n",
    "    \"\"\"\n",
    "    print(bruce)\n",
    "    print(bruce)\n",
    "    \n",
    "# Call the function and pass any name to parameter bruce\n",
    "print_twice('daniel')"
   ]
  },
  {
   "cell_type": "code",
   "execution_count": 3,
   "metadata": {},
   "outputs": [
    {
     "name": "stdout",
     "output_type": "stream",
     "text": [
      "marymartha\n",
      "marymartha\n",
      "None\n"
     ]
    }
   ],
   "source": [
    "def cat_twice(part1, part2):\n",
    "    \"\"\"concatenate params part1 and part2\n",
    "        then print it out\n",
    "    \"\"\"\n",
    "    cat = part1 + part2\n",
    "    print_twice(cat)\n",
    "    \n",
    "# Call the function with two names using the previous function\n",
    "print(cat_twice('mary', 'martha'))"
   ]
  },
  {
   "cell_type": "markdown",
   "metadata": {},
   "source": [
    "**Why functions?**\n",
    "\n",
    "It may not be clear why it is worth the trouble to divide a program into functions. There\n",
    "are several reasons:\n",
    "\n",
    "• Creating a new function gives you an opportunity to name a group of statements,\n",
    "which makes your program easier to read and debug.\n",
    "\n",
    "• Functions can make a program smaller by eliminating repetitive code. Later, if you\n",
    "make a change, you only have to make it in one place.\n",
    "\n",
    "• Dividing a long program into functions allows you to debug the parts one at a time\n",
    "and then assemble them into a working whole.\n",
    "\n",
    "• Well-designed functions are often useful for many programs. Once you write and\n",
    "debug one, you can reuse it."
   ]
  },
  {
   "cell_type": "markdown",
   "metadata": {},
   "source": [
    "<h3>Importing modules</h3>\n",
    "\n",
    "Python provides two ways to import modules\n",
    "\n",
    "1. `import math`\n",
    "2. `from math import pi` or `from math import *`\n",
    "\n",
    "The first one imports a module object named math.This module object has constants like pi and functions like pow(), sin() cosine(). But if we try to access pi directly, we get an error. "
   ]
  },
  {
   "cell_type": "code",
   "execution_count": 4,
   "metadata": {},
   "outputs": [
    {
     "ename": "NameError",
     "evalue": "name 'pi' is not defined",
     "output_type": "error",
     "traceback": [
      "\u001b[1;31m---------------------------------------------------------------------------\u001b[0m",
      "\u001b[1;31mNameError\u001b[0m                                 Traceback (most recent call last)",
      "\u001b[1;32m<ipython-input-4-a799353f84c2>\u001b[0m in \u001b[0;36m<module>\u001b[1;34m\u001b[0m\n\u001b[0;32m      1\u001b[0m \u001b[1;32mimport\u001b[0m \u001b[0mmath\u001b[0m\u001b[1;33m\u001b[0m\u001b[1;33m\u001b[0m\u001b[0m\n\u001b[1;32m----> 2\u001b[1;33m \u001b[0mx\u001b[0m \u001b[1;33m=\u001b[0m \u001b[0mpi\u001b[0m\u001b[1;33m\u001b[0m\u001b[1;33m\u001b[0m\u001b[0m\n\u001b[0m",
      "\u001b[1;31mNameError\u001b[0m: name 'pi' is not defined"
     ]
    }
   ],
   "source": [
    "import math\n",
    "x = pi"
   ]
  },
  {
   "cell_type": "markdown",
   "metadata": {},
   "source": [
    "Alternatively, we can import an object from a module like so...\n",
    "\n",
    "* `from math import pi`\n",
    "* `from math import *`\n",
    "\n",
    "The advantage of importing everything from the math module is that your code can be\n",
    "more concise. The disadvantage is that there might be conflicts between names defined in\n",
    "different modules, or between a name from a module and one of your variables.\n",
    "\n",
    "It's not a good practice to import everything with the asterisk operator. Rather import the functions you need from the modu;es.\n"
   ]
  },
  {
   "cell_type": "markdown",
   "metadata": {},
   "source": [
    "<h3>Glossary</h3>\n",
    "\n",
    "1. **function:** A named sequence of statements that performs some useful operation. Functions may or may not take arguments and may or may not produce a result.\n",
    "2. **function definition:** A statement that creates a new function, specifying its name, parameters, and the statements it executes.\n",
    "3. **function object:** A value created by a function definition. The name of the function is a variable that refers to a function object.\n",
    "4. **header:** The first line of a function definition.\n",
    "5. **body:** The sequence of statements inside a function definition.\n",
    "6. **parameter:** A name used inside a function to refer to the value passed as an argument.\n",
    "7. **function call:** A statement that executes a function. It consists of the function name followed by an argument list.\n",
    "8. **argument:** A value provided to a function when the function is called. This value is assigned to the corresponding parameter in the function.\n",
    "9. **local variable:** A variable defined inside a function. A local variable can only be used inside its function.\n",
    "10. **return value:** The result of a function. If a function call is used as an expression, the return value is the value of the expression."
   ]
  },
  {
   "cell_type": "markdown",
   "metadata": {},
   "source": [
    "11. **fruitful function:** A function that returns a value.\n",
    "12. **void function:** A function that doesn’t return a value.\n",
    "13. **module:** A file that contains a collection of related functions and other definitions.\n",
    "14. **import statement:** A statement that reads a module file and creates a module object.\n",
    "15. **module object:** A value created by an import statement that provides access to the values defined in a module.\n",
    "16. **dot notation:** The syntax for calling a function in another module by specifying the module name followed by a dot (period) and the function name.\n",
    "17. **composition:** Using an expression as part of a larger expression, or a statement as part of a larger statement.\n",
    "18. **flow of execution:** The order in which statements are executed during a program run.\n",
    "19. **stack diagram:** A graphical representation of a stack of functions, their variables, and the values they refer to.\n",
    "20. **frame:** A box in a stack diagram that represents a function call. It contains the local variables and parameters of the function.\n",
    "21. **traceback:** A list of the functions that are executing, printed when an exception occurs."
   ]
  },
  {
   "cell_type": "markdown",
   "metadata": {},
   "source": [
    "<h3>Exercises</h3>\n",
    "\n",
    "**Exercise 3.3.** Python provides a built-in function called len that returns the length of a string, so\n",
    "the value of len('allen') is 5.\n",
    "\n",
    "Write a function named right_justify that takes a string named `s` as a parameter and prints the\n",
    "string with enough leading spaces so that the last letter of the string is in column 70 of the display.\n",
    "\n",
    "**Exercise 3.4.** A function object is a value you can assign to a variable or pass as an argument. For\n",
    "example, `do_twice` is a function that takes a function object as an argument and calls it twice:\n",
    "\n",
    "`\n",
    "def do_twice(f):\n",
    "f()\n",
    "f()\n",
    "`<br>\n",
    "Here’s an example that uses `do_twice` to call a function named `print_spam` twice.\n",
    "\n",
    "`\n",
    "def print_spam():\n",
    "print 'spam'\n",
    "do_twice(print_spam)\n",
    "`\n",
    "\n",
    "1. Type this example into a script and test it.\n",
    "2. Modify `do_twice` so that it takes two arguments, a function object and a value, and calls the function twice, passing the value as an argument.\n",
    "3. Write a more general version of `print_spam`, called `print_twice`, that takes a string as a parameter and prints it twice.\n",
    "4. Use the modified version of `do_twice` to call `print_twice` twice, passing `'spam'` as an argument.\n",
    "5. Define a new function called `do_four` that takes a function object and a value and calls the function four times, passing the value as a parameter. There should be only two statements in the body of this function, not four.\n",
    "\n",
    "**Exercise 3.5.** This exercise can be done using only the statements and other features we have learned\n",
    "so far.\n",
    "1. Write a function that draws a grid like the following:\n"
   ]
  },
  {
   "cell_type": "code",
   "execution_count": null,
   "metadata": {},
   "outputs": [],
   "source": []
  }
 ],
 "metadata": {
  "kernelspec": {
   "display_name": "Python 3",
   "language": "python",
   "name": "python3"
  },
  "language_info": {
   "codemirror_mode": {
    "name": "ipython",
    "version": 3
   },
   "file_extension": ".py",
   "mimetype": "text/x-python",
   "name": "python",
   "nbconvert_exporter": "python",
   "pygments_lexer": "ipython3",
   "version": "3.7.5"
  }
 },
 "nbformat": 4,
 "nbformat_minor": 4
}
